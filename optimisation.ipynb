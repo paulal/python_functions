{
 "cells": [
  {
   "cell_type": "markdown",
   "metadata": {},
   "source": [
    "# Ruokavalion optimointi - mitä ruokia ja kuinka paljon pitää syödä, jotta päivittäiset saantisuositukset täyttyvät?"
   ]
  },
  {
   "cell_type": "markdown",
   "metadata": {},
   "source": [
    "optimoinnin tulos lista kertoimia (grammoina), joiden mukainen määrä kutakin elintarviketta tulee syödä\n",
    "Finelin tiedoista jätettävä pois lisäravinteet, laihdutusvalmisteet, äidinmaidonkorvikkeet yms.\n",
    "\n",
    "rajoitukset:\n",
    " kutakin ravintoainetta oltava suositusten mukainen määrä\n",
    " kaikki kertoimet 0 - 900 (?)\n",
    " kertoimien summa alle 5000\n",
    " mahdollisimman pieni määrä nollasta poikkeavia kertoimia\n",
    " ruokien yhteenlaskettu energiamäärä 2000 kcal (* 4,184)"
   ]
  },
  {
   "cell_type": "code",
   "execution_count": 2,
   "metadata": {},
   "outputs": [],
   "source": [
    "import pandas as pd\n",
    "import numpy as np\n",
    "from scipy.optimize import linprog"
   ]
  },
  {
   "cell_type": "code",
   "execution_count": 3,
   "metadata": {},
   "outputs": [],
   "source": [
    "# pois laskuista jätettävät elintarviketyypit (FUCLASS):\n",
    "# lastenruoat, äidinmaidonkorvikkeet, ateriankorvikkeet ja lisäravinteet\n",
    "omitted_food_types = ('BABYFTOT', \n",
    "'BABMEATD',\n",
    "'BABFISHD',\n",
    "'BABMILPO',\n",
    "'BABWATPO',\n",
    "'BABFRUB',\n",
    "'BABVEGE',\n",
    "'BABMIFRU',\n",
    "'BABOTHER',\n",
    "'MMILK',\n",
    "'INFMILK',\n",
    "'CASMILK',\n",
    "'PREMILK',\n",
    "'SOYMILK',\n",
    "'WHEYMILK',\n",
    "'AMINMILK',\n",
    "'SPECTOT',\n",
    "'SPECSUPP',\n",
    "'MEALREP',\n",
    "'SPORTFOO',\n",
    "'SPECFOOD')"
   ]
  },
  {
   "cell_type": "code",
   "execution_count": 4,
   "metadata": {},
   "outputs": [],
   "source": [
    "def read_files(path:str) -> tuple:\n",
    "    \"\"\"This function reads the following csv files and returns \n",
    "    a tuple of pandas data structures: \n",
    "    component_value_utf-8.csv\n",
    "    eufdname_FI_utf-8.csv\n",
    "    food_utf-8.csv\n",
    "    saantisuositus_2014.csv\n",
    "\n",
    "    The function also removes data for various supplements,\n",
    "    since the target is to look at real foods.\n",
    "\n",
    "    Args:\n",
    "        path (str): absolute path to csv files\n",
    "\n",
    "    Returns:\n",
    "        tuple: Returns a tuple of pandas data structures with the \n",
    "        data from the csv files. (component_value, eufdname, food,\n",
    "        saantisuositus)\n",
    "    \"\"\"\n",
    "\n",
    "    component_value = pd.read_csv(path + \"component_value_utf-8.csv\", sep=\";\")\n",
    "    eufdname = pd.read_csv(path + \"eufdname_FI_utf-8.csv\", sep=\";\")\n",
    "    food = pd.read_csv(path + \"food_utf-8.csv\", sep=\";\")\n",
    "    saantisuositus = pd.read_csv(path + \"saantisuositus_2014.csv\", sep=\";\", header=None, names=[\"EUFDNAME\", \"name\", \"mnuori\", \"maikuinen\", \"mkeski\", \"miäkäs\", \"mvanha\", \"npieni\",\"nnuori\", \"naikuinen\", \"nkeski\", \"niäkäs\", \"nvanha\"])\n",
    "\n",
    "    return component_value, eufdname, food, saantisuositus"
   ]
  },
  {
   "cell_type": "code",
   "execution_count": 5,
   "metadata": {},
   "outputs": [
    {
     "name": "stdout",
     "output_type": "stream",
     "text": [
      "   FOODID EUFDNAME  BESTLOC ACQTYPE METHTYPE METHIND\n",
      "0       1    ENERC  1698.30       S        S  MI0107\n",
      "1       1      FAT     0.00       F        E  MIR003\n",
      "2       1   CHOAVL    99.90       S        S  MI0181\n",
      "3       1   CHOCDF    99.88       S        S  MI0131\n",
      "4       1     PROT     0.00       L        P  MIR003\n",
      "  THSCODE                              DESCRIPT LANG\n",
      "0   ENERC               energia, laskennallinen   FI\n",
      "1  XENERC  energia, laskennallinen ilman kuitua   FI\n",
      "2     FAT                                 rasva   FI\n",
      "3  CHOAVL               hiilihydraatti imeytyvä   FI\n",
      "4  CHOCDF             hiilihydraatti erotuksena   FI\n",
      "   FOODID                  FOODNAME FOODTYPE PROCESS  EDPORT   IGCLASS  \\\n",
      "0       1                    SOKERI     FOOD     IND     100  SUGARSYR   \n",
      "1       2  FRUKTOOSI, HEDELMÄSOKERI     FOOD     IND     100  SUGARSYR   \n",
      "2       3                  SIIRAPPI     FOOD     IND     100  SUGARSYR   \n",
      "3       4                    HUNAJA     FOOD     RAW     100  SUGARSYR   \n",
      "4       5       MAKEINEN, KARAMELLI     FOOD     IND     100     SWEET   \n",
      "\n",
      "   IGCLASSP FUCLASS  FUCLASSP  \n",
      "0  SUGARTOT  SUGADD  SUGARTOT  \n",
      "1  SUGARTOT  SUGADD  SUGARTOT  \n",
      "2  SUGARTOT  SUGADD  SUGARTOT  \n",
      "3  SUGARTOT  SUGADD  SUGARTOT  \n",
      "4  SUGARTOT   SWEET  SUGARTOT  \n",
      "  EUFDNAME              name mnuori  maikuinen  mkeski  miäkäs  mvanha  \\\n",
      "0     VITA    A-vitamiini RE    900      900.0   900.0   900.0   900.0   \n",
      "1     VITD    D-vitamiini μg     10       10.0    10.0    10.0    20.0   \n",
      "2     VITE  E-vitamiini α–TE     10       10.0    10.0    10.0    10.0   \n",
      "3     THIA       Tiamiini mg    1.4        1.3     1.3     1.2     1.2   \n",
      "4     RIBF   Riboflaviini mg    1.7        1.5     1.5     1.4     1.3   \n",
      "\n",
      "   npieni  nnuori  naikuinen  nkeski  niäkäs  nvanha  \n",
      "0   600.0   700.0      700.0   700.0   700.0   700.0  \n",
      "1    10.0    10.0       10.0    10.0    10.0    20.0  \n",
      "2     7.0     8.0        8.0     8.0     8.0     8.0  \n",
      "3     1.0     1.2        1.1     1.1     1.0     1.0  \n",
      "4     1.2     1.4        1.3     1.2     1.2     1.2  \n"
     ]
    }
   ],
   "source": [
    "component_value, eufdname, food, saantisuositus = read_files('/home/pomo/Asiakirjat/Kurssit/Taitotalo_Python-ohjelmoija/python/portfolio/fineli_20/')\n",
    "print(component_value.head())\n",
    "print(eufdname.head())\n",
    "print(food.head())\n",
    "print(saantisuositus.head())"
   ]
  },
  {
   "cell_type": "code",
   "execution_count": 6,
   "metadata": {},
   "outputs": [],
   "source": [
    "def filter_fuclass(dataframe:pd.DataFrame, fuclass_to_remove:tuple) -> pd.DataFrame:\n",
    "    \"\"\"Take a pandas dataframe with food data and remove\n",
    "    lines where the FUCLASS is one of those specified in \n",
    "    fuclass_to_remove. Returns the cleaned dataframe.\n",
    "\n",
    "    Args:\n",
    "        dataframe (pandas_df): A pandas dataframe with food names and food use class (FUCLASS)\n",
    "        fuclass_to_remove (tuple): A tuple of FUCLASS values to use for filtering out unwanted data from the dataframe\n",
    "\n",
    "    Returns:\n",
    "        pandas_df: The pandas dataframe minus the lines with specified FUCLASS values\n",
    "    \"\"\"\n",
    "    for food_type in fuclass_to_remove:\n",
    "        dataframe = dataframe[dataframe.FUCLASS != food_type]\n",
    "\n",
    "    return dataframe"
   ]
  },
  {
   "cell_type": "code",
   "execution_count": null,
   "metadata": {},
   "outputs": [],
   "source": [
    "# ongelma: kaikille ruuille ei ole kaikkien ravinteiden tietoja, joten pitäisi lisätä nollia \n",
    "# puuttuvien tietojen kohdalle. Ravinteiden järjestyksen tulee olla sama kaikissa ruuissa.\n",
    "\n",
    "def fill_in_missing_zeros(dataframe:pd.Dataframe) -> pd.Dataframe:\n",
    "    \"\"\"Takes a pandas dataframe (component_value) where each row represents\n",
    "    the amount of one nutrient in one food (e.g. calcium in milk). \n",
    "    Fills in any missing rows with zeroes in the BESTLOC column\n",
    "    and appropriate data in the other columns (FOODID and EUFDNAME; the other columns do not matter).\n",
    "\n",
    "    Args:\n",
    "        dataframe (pandas_df): A pandas dataframe with information on how much of each nutrient foods contain\n",
    "\n",
    "    Returns:\n",
    "        pandas_df: The pandas dataframe modified so that it has the same number of nutrient rows for every food.\n",
    "    \"\"\"\n",
    "    sample = []\n",
    "    for i in range(1,11):\n",
    "        food = dataframe[dataframe.FOODID == i]\n",
    "        sample.append(food['EUFDNAME'].tolist())\n",
    "    \n",
    "    longest = []\n",
    "    for l in sample:\n",
    "        if len(l) > len(longest):\n",
    "            longest = l\n",
    "    \n",
    "    #TODO - miten datan saa sellaiseen muotoon, että saa lisättyä puuttuvien arvojen kohdalle nollat?\n",
    "    "
   ]
  },
  {
   "cell_type": "code",
   "execution_count": 7,
   "metadata": {},
   "outputs": [],
   "source": [
    "def filter_components_by_food(component_value:pd.DataFrame, food:pd.DataFrame) -> pd.DataFrame:\n",
    "    \"\"\"Takes two pandas dataframes: component_value and food. \n",
    "    Returns a filtered version of component_value \n",
    "    that only includes rows that have FOODID values found in food\n",
    "    (since the food dataframe was previously filtered with filter_fuclass()).\n",
    "\n",
    "    Args:\n",
    "        component_value (pandas_df): A dataframe with information on how much of each nutrient foods contain\n",
    "        food (pandas_df): A dataframe with foods\n",
    "\n",
    "    Returns:\n",
    "        pandas_df: A filtered version of component_value\n",
    "    \"\"\"\n",
    "    food_ids = food['FOODID'].tolist()\n",
    "    new_component_value = component_value[component_value.FOODID.isin(food_ids)]\n",
    "    \n",
    "    return new_component_value"
   ]
  },
  {
   "cell_type": "code",
   "execution_count": 8,
   "metadata": {},
   "outputs": [],
   "source": [
    "def limit_components(component_value:pd.DataFrame, nutrient_list:list) -> pd.DataFrame:\n",
    "    \"\"\"Takes a pandas dataframe and a list of nutrients to include. \n",
    "    Returns a filtered version of the dataframe that only \n",
    "    includes rows that have one of the EUFDNAME values found in the list.\n",
    "\n",
    "    Args:\n",
    "        component_value (pandas_df): A dataframe with information on how much of each nutrient foods contain\n",
    "        nutrient_list (list): A list of nutrient codes\n",
    "\n",
    "    Returns:\n",
    "        pandas_df: A filtered version of component_value\n",
    "    \"\"\"\n",
    "    new_component_value = component_value[component_value.EUFDNAME.isin(nutrient_list)]\n",
    "    \n",
    "    return new_component_value"
   ]
  },
  {
   "cell_type": "code",
   "execution_count": 9,
   "metadata": {},
   "outputs": [],
   "source": [
    "def get_single_component_values(component_value:pd.DataFrame, component=\"ENERC\") -> list:\n",
    "    \"\"\"Takes a pandas dataframe with the nutrient compositions of foods and the EUFDNAME of a single nutrient. \n",
    "    Returns the values of a specified component for the foods included.\n",
    "\n",
    "    Args:\n",
    "        component_value (pandas_df): A dataframe with information on how much of each nutrient foods contain\n",
    "        component (string): the EUFDNAME of a nutrient\n",
    "\n",
    "    Returns:\n",
    "        list: A list of the values of the specified component (default: ENERC) for the foods\n",
    "    \"\"\"\n",
    "    specified_only = component_value[component_value.EUFDNAME == component]\n",
    "    \n",
    "    return specified_only['BESTLOC'].tolist()"
   ]
  },
  {
   "cell_type": "code",
   "execution_count": 34,
   "metadata": {},
   "outputs": [],
   "source": [
    "def create_matrix_a_eq(component_value:pd.DataFrame, nutrient_list:list) -> list:\n",
    "    \"\"\"Takes a pandas dataframe with the nutrient compositions of foods and\n",
    "    a list of EUFDNAMEs of nutrients. \n",
    "    Returns the A_eq matrix (list of lists) for use in the scipy.optimize.linprog function.\n",
    "\n",
    "    Args:\n",
    "        component_value (pandas_df): A dataframe with information on how much of each nutrient foods contain\n",
    "        nutrient_list (list): A list of EUFDNAMEs\n",
    "\n",
    "    Returns:\n",
    "        list of lists: The A_eq matrix where each row is the amounts of one nutrient in the various foods.\n",
    "    \"\"\"\n",
    "    A = []\n",
    "    for nutrient in nutrient_list:\n",
    "        specified_only = component_value[component_value.EUFDNAME == nutrient]\n",
    "        A.append(get_single_component_values(component_value, nutrient))\n",
    "        \n",
    "    return A"
   ]
  },
  {
   "cell_type": "code",
   "execution_count": 45,
   "metadata": {},
   "outputs": [],
   "source": [
    "def create_rda_list(rda:pd.DataFrame, nutrient_list:list, target_group:str=\"nkeski\") -> list:\n",
    "    \"\"\"Takes a pandas dataframe with the recommended daily allowances for various nutrients\n",
    "    and a list of EUFDNAMEs of nutrients. \n",
    "    Returns the A_eq matrix (list of lists) for use in the scipy.optimize.linprog function.\n",
    "\n",
    "    Args:\n",
    "        rda (pandas_df): A dataframe with rda values for nutrients\n",
    "        nutrient_list (list): A list of EUFDNAMEs\n",
    "        target_group (str): The age & sex combination of the target group (default: middle-aged women)\n",
    "\n",
    "    Returns:\n",
    "        list: The b constraint vector where each value is the rda of a nutrient.\n",
    "    \"\"\"\n",
    "    specified_only = rda[rda.EUFDNAME.isin(nutrient_list)]\n",
    "    \n",
    "    return specified_only[target_group].tolist()"
   ]
  },
  {
   "cell_type": "code",
   "execution_count": 72,
   "metadata": {},
   "outputs": [
    {
     "name": "stdout",
     "output_type": "stream",
     "text": [
      "4238\n",
      "1378\n"
     ]
    },
    {
     "data": {
      "text/html": [
       "<div>\n",
       "<style scoped>\n",
       "    .dataframe tbody tr th:only-of-type {\n",
       "        vertical-align: middle;\n",
       "    }\n",
       "\n",
       "    .dataframe tbody tr th {\n",
       "        vertical-align: top;\n",
       "    }\n",
       "\n",
       "    .dataframe thead th {\n",
       "        text-align: right;\n",
       "    }\n",
       "</style>\n",
       "<table border=\"1\" class=\"dataframe\">\n",
       "  <thead>\n",
       "    <tr style=\"text-align: right;\">\n",
       "      <th></th>\n",
       "      <th>FOODID</th>\n",
       "      <th>FOODNAME</th>\n",
       "      <th>FOODTYPE</th>\n",
       "      <th>PROCESS</th>\n",
       "      <th>EDPORT</th>\n",
       "      <th>IGCLASS</th>\n",
       "      <th>IGCLASSP</th>\n",
       "      <th>FUCLASS</th>\n",
       "      <th>FUCLASSP</th>\n",
       "    </tr>\n",
       "  </thead>\n",
       "  <tbody>\n",
       "    <tr>\n",
       "      <td>0</td>\n",
       "      <td>1</td>\n",
       "      <td>SOKERI</td>\n",
       "      <td>FOOD</td>\n",
       "      <td>IND</td>\n",
       "      <td>100</td>\n",
       "      <td>SUGARSYR</td>\n",
       "      <td>SUGARTOT</td>\n",
       "      <td>SUGADD</td>\n",
       "      <td>SUGARTOT</td>\n",
       "    </tr>\n",
       "    <tr>\n",
       "      <td>1</td>\n",
       "      <td>2</td>\n",
       "      <td>FRUKTOOSI, HEDELMÄSOKERI</td>\n",
       "      <td>FOOD</td>\n",
       "      <td>IND</td>\n",
       "      <td>100</td>\n",
       "      <td>SUGARSYR</td>\n",
       "      <td>SUGARTOT</td>\n",
       "      <td>SUGADD</td>\n",
       "      <td>SUGARTOT</td>\n",
       "    </tr>\n",
       "    <tr>\n",
       "      <td>2</td>\n",
       "      <td>3</td>\n",
       "      <td>SIIRAPPI</td>\n",
       "      <td>FOOD</td>\n",
       "      <td>IND</td>\n",
       "      <td>100</td>\n",
       "      <td>SUGARSYR</td>\n",
       "      <td>SUGARTOT</td>\n",
       "      <td>SUGADD</td>\n",
       "      <td>SUGARTOT</td>\n",
       "    </tr>\n",
       "    <tr>\n",
       "      <td>3</td>\n",
       "      <td>4</td>\n",
       "      <td>HUNAJA</td>\n",
       "      <td>FOOD</td>\n",
       "      <td>RAW</td>\n",
       "      <td>100</td>\n",
       "      <td>SUGARSYR</td>\n",
       "      <td>SUGARTOT</td>\n",
       "      <td>SUGADD</td>\n",
       "      <td>SUGARTOT</td>\n",
       "    </tr>\n",
       "    <tr>\n",
       "      <td>4</td>\n",
       "      <td>5</td>\n",
       "      <td>MAKEINEN, KARAMELLI</td>\n",
       "      <td>FOOD</td>\n",
       "      <td>IND</td>\n",
       "      <td>100</td>\n",
       "      <td>SWEET</td>\n",
       "      <td>SUGARTOT</td>\n",
       "      <td>SWEET</td>\n",
       "      <td>SUGARTOT</td>\n",
       "    </tr>\n",
       "  </tbody>\n",
       "</table>\n",
       "</div>"
      ],
      "text/plain": [
       "   FOODID                  FOODNAME FOODTYPE PROCESS  EDPORT   IGCLASS  \\\n",
       "0       1                    SOKERI     FOOD     IND     100  SUGARSYR   \n",
       "1       2  FRUKTOOSI, HEDELMÄSOKERI     FOOD     IND     100  SUGARSYR   \n",
       "2       3                  SIIRAPPI     FOOD     IND     100  SUGARSYR   \n",
       "3       4                    HUNAJA     FOOD     RAW     100  SUGARSYR   \n",
       "4       5       MAKEINEN, KARAMELLI     FOOD     IND     100     SWEET   \n",
       "\n",
       "   IGCLASSP FUCLASS  FUCLASSP  \n",
       "0  SUGARTOT  SUGADD  SUGARTOT  \n",
       "1  SUGARTOT  SUGADD  SUGARTOT  \n",
       "2  SUGARTOT  SUGADD  SUGARTOT  \n",
       "3  SUGARTOT  SUGADD  SUGARTOT  \n",
       "4  SUGARTOT   SWEET  SUGARTOT  "
      ]
     },
     "execution_count": 72,
     "metadata": {},
     "output_type": "execute_result"
    }
   ],
   "source": [
    "print(len(food.index))\n",
    "testi = food.loc[food['FOODID']<24990]\n",
    "print(len(testi.index))\n",
    "testi.head()\n"
   ]
  },
  {
   "cell_type": "code",
   "execution_count": 12,
   "metadata": {},
   "outputs": [
    {
     "name": "stdout",
     "output_type": "stream",
     "text": [
      "4150\n"
     ]
    },
    {
     "data": {
      "text/html": [
       "<div>\n",
       "<style scoped>\n",
       "    .dataframe tbody tr th:only-of-type {\n",
       "        vertical-align: middle;\n",
       "    }\n",
       "\n",
       "    .dataframe tbody tr th {\n",
       "        vertical-align: top;\n",
       "    }\n",
       "\n",
       "    .dataframe thead th {\n",
       "        text-align: right;\n",
       "    }\n",
       "</style>\n",
       "<table border=\"1\" class=\"dataframe\">\n",
       "  <thead>\n",
       "    <tr style=\"text-align: right;\">\n",
       "      <th></th>\n",
       "      <th>FOODID</th>\n",
       "      <th>FOODNAME</th>\n",
       "      <th>FOODTYPE</th>\n",
       "      <th>PROCESS</th>\n",
       "      <th>EDPORT</th>\n",
       "      <th>IGCLASS</th>\n",
       "      <th>IGCLASSP</th>\n",
       "      <th>FUCLASS</th>\n",
       "      <th>FUCLASSP</th>\n",
       "    </tr>\n",
       "  </thead>\n",
       "  <tbody>\n",
       "  </tbody>\n",
       "</table>\n",
       "</div>"
      ],
      "text/plain": [
       "Empty DataFrame\n",
       "Columns: [FOODID, FOODNAME, FOODTYPE, PROCESS, EDPORT, IGCLASS, IGCLASSP, FUCLASS, FUCLASSP]\n",
       "Index: []"
      ]
     },
     "execution_count": 12,
     "metadata": {},
     "output_type": "execute_result"
    }
   ],
   "source": [
    "#filter food\n",
    "filtered_food = filter_fuclass(food, omitted_food_types)\n",
    "print(len(filtered_food.index))\n",
    "testi = filtered_food.loc[food['FOODID']==34990]\n",
    "testi"
   ]
  },
  {
   "cell_type": "code",
   "execution_count": 13,
   "metadata": {},
   "outputs": [
    {
     "name": "stdout",
     "output_type": "stream",
     "text": [
      "307834\n",
      "301879\n"
     ]
    },
    {
     "data": {
      "text/html": [
       "<div>\n",
       "<style scoped>\n",
       "    .dataframe tbody tr th:only-of-type {\n",
       "        vertical-align: middle;\n",
       "    }\n",
       "\n",
       "    .dataframe tbody tr th {\n",
       "        vertical-align: top;\n",
       "    }\n",
       "\n",
       "    .dataframe thead th {\n",
       "        text-align: right;\n",
       "    }\n",
       "</style>\n",
       "<table border=\"1\" class=\"dataframe\">\n",
       "  <thead>\n",
       "    <tr style=\"text-align: right;\">\n",
       "      <th></th>\n",
       "      <th>FOODID</th>\n",
       "      <th>EUFDNAME</th>\n",
       "      <th>BESTLOC</th>\n",
       "      <th>ACQTYPE</th>\n",
       "      <th>METHTYPE</th>\n",
       "      <th>METHIND</th>\n",
       "    </tr>\n",
       "  </thead>\n",
       "  <tbody>\n",
       "    <tr>\n",
       "      <td>307829</td>\n",
       "      <td>35887</td>\n",
       "      <td>CHOLE</td>\n",
       "      <td>323.57</td>\n",
       "      <td>S</td>\n",
       "      <td>R</td>\n",
       "      <td>MI0002</td>\n",
       "    </tr>\n",
       "    <tr>\n",
       "      <td>307830</td>\n",
       "      <td>35887</td>\n",
       "      <td>STERT</td>\n",
       "      <td>11.43</td>\n",
       "      <td>S</td>\n",
       "      <td>R</td>\n",
       "      <td>MI0002</td>\n",
       "    </tr>\n",
       "    <tr>\n",
       "      <td>307831</td>\n",
       "      <td>35887</td>\n",
       "      <td>TRP</td>\n",
       "      <td>486.20</td>\n",
       "      <td>S</td>\n",
       "      <td>R</td>\n",
       "      <td>MI0002</td>\n",
       "    </tr>\n",
       "    <tr>\n",
       "      <td>307832</td>\n",
       "      <td>35887</td>\n",
       "      <td>MYRIC</td>\n",
       "      <td>0.00</td>\n",
       "      <td>S</td>\n",
       "      <td>R</td>\n",
       "      <td>MI0002</td>\n",
       "    </tr>\n",
       "    <tr>\n",
       "      <td>307833</td>\n",
       "      <td>35887</td>\n",
       "      <td>QUERCE</td>\n",
       "      <td>0.00</td>\n",
       "      <td>S</td>\n",
       "      <td>R</td>\n",
       "      <td>MI0002</td>\n",
       "    </tr>\n",
       "  </tbody>\n",
       "</table>\n",
       "</div>"
      ],
      "text/plain": [
       "        FOODID EUFDNAME  BESTLOC ACQTYPE METHTYPE METHIND\n",
       "307829   35887    CHOLE   323.57       S        R  MI0002\n",
       "307830   35887    STERT    11.43       S        R  MI0002\n",
       "307831   35887      TRP   486.20       S        R  MI0002\n",
       "307832   35887    MYRIC     0.00       S        R  MI0002\n",
       "307833   35887   QUERCE     0.00       S        R  MI0002"
      ]
     },
     "execution_count": 13,
     "metadata": {},
     "output_type": "execute_result"
    }
   ],
   "source": [
    "#filter component_value by foodid\n",
    "print(len(component_value))\n",
    "filtered_comp_val = filter_components_by_food(component_value, filtered_food)\n",
    "print(len(filtered_comp_val))\n",
    "filtered_comp_val.tail()"
   ]
  },
  {
   "cell_type": "code",
   "execution_count": 58,
   "metadata": {},
   "outputs": [
    {
     "name": "stdout",
     "output_type": "stream",
     "text": [
      "301879\n",
      "8271\n"
     ]
    },
    {
     "data": {
      "text/html": [
       "<div>\n",
       "<style scoped>\n",
       "    .dataframe tbody tr th:only-of-type {\n",
       "        vertical-align: middle;\n",
       "    }\n",
       "\n",
       "    .dataframe tbody tr th {\n",
       "        vertical-align: top;\n",
       "    }\n",
       "\n",
       "    .dataframe thead th {\n",
       "        text-align: right;\n",
       "    }\n",
       "</style>\n",
       "<table border=\"1\" class=\"dataframe\">\n",
       "  <thead>\n",
       "    <tr style=\"text-align: right;\">\n",
       "      <th></th>\n",
       "      <th>FOODID</th>\n",
       "      <th>EUFDNAME</th>\n",
       "      <th>BESTLOC</th>\n",
       "      <th>ACQTYPE</th>\n",
       "      <th>METHTYPE</th>\n",
       "      <th>METHIND</th>\n",
       "    </tr>\n",
       "  </thead>\n",
       "  <tbody>\n",
       "    <tr>\n",
       "      <td>307644</td>\n",
       "      <td>35647</td>\n",
       "      <td>VITB12</td>\n",
       "      <td>1.100</td>\n",
       "      <td>S</td>\n",
       "      <td>R</td>\n",
       "      <td>MI0002</td>\n",
       "    </tr>\n",
       "    <tr>\n",
       "      <td>307714</td>\n",
       "      <td>35652</td>\n",
       "      <td>VITA</td>\n",
       "      <td>0.000</td>\n",
       "      <td>S</td>\n",
       "      <td>R</td>\n",
       "      <td>MI0002</td>\n",
       "    </tr>\n",
       "    <tr>\n",
       "      <td>307718</td>\n",
       "      <td>35652</td>\n",
       "      <td>VITB12</td>\n",
       "      <td>0.050</td>\n",
       "      <td>S</td>\n",
       "      <td>R</td>\n",
       "      <td>MI0002</td>\n",
       "    </tr>\n",
       "    <tr>\n",
       "      <td>307788</td>\n",
       "      <td>35887</td>\n",
       "      <td>VITA</td>\n",
       "      <td>25975.429</td>\n",
       "      <td>S</td>\n",
       "      <td>R</td>\n",
       "      <td>MI0002</td>\n",
       "    </tr>\n",
       "    <tr>\n",
       "      <td>307792</td>\n",
       "      <td>35887</td>\n",
       "      <td>VITB12</td>\n",
       "      <td>100.000</td>\n",
       "      <td>S</td>\n",
       "      <td>R</td>\n",
       "      <td>MI0002</td>\n",
       "    </tr>\n",
       "  </tbody>\n",
       "</table>\n",
       "</div>"
      ],
      "text/plain": [
       "        FOODID EUFDNAME    BESTLOC ACQTYPE METHTYPE METHIND\n",
       "307644   35647   VITB12      1.100       S        R  MI0002\n",
       "307714   35652     VITA      0.000       S        R  MI0002\n",
       "307718   35652   VITB12      0.050       S        R  MI0002\n",
       "307788   35887     VITA  25975.429       S        R  MI0002\n",
       "307792   35887   VITB12    100.000       S        R  MI0002"
      ]
     },
     "execution_count": 58,
     "metadata": {},
     "output_type": "execute_result"
    }
   ],
   "source": [
    "# filter component value by nutrient\n",
    "print(len(filtered_comp_val))\n",
    "filtered_comp_val2 = limit_components(filtered_comp_val, ['VITA', 'VITB12'])\n",
    "print(len(filtered_comp_val2))\n",
    "filtered_comp_val2.tail()"
   ]
  },
  {
   "cell_type": "code",
   "execution_count": 50,
   "metadata": {},
   "outputs": [
    {
     "name": "stdout",
     "output_type": "stream",
     "text": [
      "4144\n",
      "[1698.3, 1696.6, 1261.4, 1382.1, 1487.5, 2270.15, 1358.84, 1375.56, 1294.8, 2033.21]\n"
     ]
    }
   ],
   "source": [
    "c = get_single_component_values(filtered_comp_val)\n",
    "print(len(c))\n",
    "print(c[:10])"
   ]
  },
  {
   "cell_type": "code",
   "execution_count": 59,
   "metadata": {},
   "outputs": [
    {
     "name": "stdout",
     "output_type": "stream",
     "text": [
      "4127\n",
      "2\n",
      "<class 'float'>\n",
      "<class 'list'>\n"
     ]
    }
   ],
   "source": [
    "A = create_matrix_a_eq(filtered_comp_val2, ['VITA', 'VITB12'])\n",
    "print(len(A[0]))\n",
    "print(len(A))\n",
    "print(type(A[0][0]))\n",
    "print(type(A))"
   ]
  },
  {
   "cell_type": "code",
   "execution_count": 60,
   "metadata": {},
   "outputs": [
    {
     "name": "stdout",
     "output_type": "stream",
     "text": [
      "[700.0, 2.0]\n"
     ]
    }
   ],
   "source": [
    "b = create_rda_list(saantisuositus, nutrient_list=['VITA', 'VITB12'], target_group=\"nkeski\")\n",
    "print(b)"
   ]
  },
  {
   "cell_type": "code",
   "execution_count": 66,
   "metadata": {},
   "outputs": [
    {
     "ename": "TypeError",
     "evalue": "Invalid input for linprog: A_eq must be a 2D array of numerical values",
     "output_type": "error",
     "traceback": [
      "\u001b[0;31m---------------------------------------------------------------------------\u001b[0m",
      "\u001b[0;31mValueError\u001b[0m                                Traceback (most recent call last)",
      "\u001b[0;32m~/anaconda3/lib/python3.7/site-packages/scipy/optimize/_linprog_util.py\u001b[0m in \u001b[0;36m_clean_inputs\u001b[0;34m(c, A_ub, b_ub, A_eq, b_eq, bounds, x0)\u001b[0m\n\u001b[1;32m    247\u001b[0m     \u001b[0;32mtry\u001b[0m\u001b[0;34m:\u001b[0m\u001b[0;34m\u001b[0m\u001b[0;34m\u001b[0m\u001b[0m\n\u001b[0;32m--> 248\u001b[0;31m         \u001b[0mA_eq\u001b[0m \u001b[0;34m=\u001b[0m \u001b[0m_format_A_constraints\u001b[0m\u001b[0;34m(\u001b[0m\u001b[0mA_eq\u001b[0m\u001b[0;34m,\u001b[0m \u001b[0mn_x\u001b[0m\u001b[0;34m,\u001b[0m \u001b[0msparse_lhs\u001b[0m\u001b[0;34m=\u001b[0m\u001b[0msparse_lhs\u001b[0m\u001b[0;34m)\u001b[0m\u001b[0;34m\u001b[0m\u001b[0;34m\u001b[0m\u001b[0m\n\u001b[0m\u001b[1;32m    249\u001b[0m     \u001b[0;32mexcept\u001b[0m \u001b[0mValueError\u001b[0m\u001b[0;34m:\u001b[0m\u001b[0;34m\u001b[0m\u001b[0;34m\u001b[0m\u001b[0m\n",
      "\u001b[0;32m~/anaconda3/lib/python3.7/site-packages/scipy/optimize/_linprog_util.py\u001b[0m in \u001b[0;36m_format_A_constraints\u001b[0;34m(A, n_x, sparse_lhs)\u001b[0m\n\u001b[1;32m     99\u001b[0m     \u001b[0;32melse\u001b[0m\u001b[0;34m:\u001b[0m\u001b[0;34m\u001b[0m\u001b[0;34m\u001b[0m\u001b[0m\n\u001b[0;32m--> 100\u001b[0;31m         \u001b[0;32mreturn\u001b[0m \u001b[0mnp\u001b[0m\u001b[0;34m.\u001b[0m\u001b[0marray\u001b[0m\u001b[0;34m(\u001b[0m\u001b[0mA\u001b[0m\u001b[0;34m,\u001b[0m \u001b[0mdtype\u001b[0m\u001b[0;34m=\u001b[0m\u001b[0mfloat\u001b[0m\u001b[0;34m,\u001b[0m \u001b[0mcopy\u001b[0m\u001b[0;34m=\u001b[0m\u001b[0;32mTrue\u001b[0m\u001b[0;34m)\u001b[0m\u001b[0;34m\u001b[0m\u001b[0;34m\u001b[0m\u001b[0m\n\u001b[0m\u001b[1;32m    101\u001b[0m \u001b[0;34m\u001b[0m\u001b[0m\n",
      "\u001b[0;31mValueError\u001b[0m: setting an array element with a sequence.",
      "\nDuring handling of the above exception, another exception occurred:\n",
      "\u001b[0;31mTypeError\u001b[0m                                 Traceback (most recent call last)",
      "\u001b[0;32m<ipython-input-66-6296d1507aee>\u001b[0m in \u001b[0;36m<module>\u001b[0;34m\u001b[0m\n\u001b[0;32m----> 1\u001b[0;31m \u001b[0mres\u001b[0m \u001b[0;34m=\u001b[0m \u001b[0mlinprog\u001b[0m\u001b[0;34m(\u001b[0m\u001b[0mc\u001b[0m\u001b[0;34m,\u001b[0m \u001b[0mA_eq\u001b[0m\u001b[0;34m=\u001b[0m\u001b[0mA\u001b[0m\u001b[0;34m,\u001b[0m \u001b[0mb_eq\u001b[0m\u001b[0;34m=\u001b[0m\u001b[0mb\u001b[0m\u001b[0;34m)\u001b[0m\u001b[0;34m\u001b[0m\u001b[0;34m\u001b[0m\u001b[0m\n\u001b[0m",
      "\u001b[0;32m~/anaconda3/lib/python3.7/site-packages/scipy/optimize/_linprog.py\u001b[0m in \u001b[0;36mlinprog\u001b[0;34m(c, A_ub, b_ub, A_eq, b_eq, bounds, method, callback, options, x0)\u001b[0m\n\u001b[1;32m    499\u001b[0m \u001b[0;34m\u001b[0m\u001b[0m\n\u001b[1;32m    500\u001b[0m     c, A_ub, b_ub, A_eq, b_eq, bounds, solver_options, x0 = _parse_linprog(\n\u001b[0;32m--> 501\u001b[0;31m         c, A_ub, b_ub, A_eq, b_eq, bounds, options, x0)\n\u001b[0m\u001b[1;32m    502\u001b[0m     \u001b[0mtol\u001b[0m \u001b[0;34m=\u001b[0m \u001b[0msolver_options\u001b[0m\u001b[0;34m.\u001b[0m\u001b[0mget\u001b[0m\u001b[0;34m(\u001b[0m\u001b[0;34m'tol'\u001b[0m\u001b[0;34m,\u001b[0m \u001b[0mdefault_tol\u001b[0m\u001b[0;34m)\u001b[0m\u001b[0;34m\u001b[0m\u001b[0;34m\u001b[0m\u001b[0m\n\u001b[1;32m    503\u001b[0m \u001b[0;34m\u001b[0m\u001b[0m\n",
      "\u001b[0;32m~/anaconda3/lib/python3.7/site-packages/scipy/optimize/_linprog_util.py\u001b[0m in \u001b[0;36m_parse_linprog\u001b[0;34m(c, A_ub, b_ub, A_eq, b_eq, bounds, options, x0)\u001b[0m\n\u001b[1;32m    879\u001b[0m     \u001b[0;31m# Convert lists to numpy arrays, etc...\u001b[0m\u001b[0;34m\u001b[0m\u001b[0;34m\u001b[0m\u001b[0;34m\u001b[0m\u001b[0m\n\u001b[1;32m    880\u001b[0m     c, A_ub, b_ub, A_eq, b_eq, bounds, x0 = _clean_inputs(\n\u001b[0;32m--> 881\u001b[0;31m         c, A_ub, b_ub, A_eq, b_eq, bounds, x0)\n\u001b[0m\u001b[1;32m    882\u001b[0m     \u001b[0;32mreturn\u001b[0m \u001b[0mc\u001b[0m\u001b[0;34m,\u001b[0m \u001b[0mA_ub\u001b[0m\u001b[0;34m,\u001b[0m \u001b[0mb_ub\u001b[0m\u001b[0;34m,\u001b[0m \u001b[0mA_eq\u001b[0m\u001b[0;34m,\u001b[0m \u001b[0mb_eq\u001b[0m\u001b[0;34m,\u001b[0m \u001b[0mbounds\u001b[0m\u001b[0;34m,\u001b[0m \u001b[0msolver_options\u001b[0m\u001b[0;34m,\u001b[0m \u001b[0mx0\u001b[0m\u001b[0;34m\u001b[0m\u001b[0;34m\u001b[0m\u001b[0m\n\u001b[1;32m    883\u001b[0m \u001b[0;34m\u001b[0m\u001b[0m\n",
      "\u001b[0;32m~/anaconda3/lib/python3.7/site-packages/scipy/optimize/_linprog_util.py\u001b[0m in \u001b[0;36m_clean_inputs\u001b[0;34m(c, A_ub, b_ub, A_eq, b_eq, bounds, x0)\u001b[0m\n\u001b[1;32m    249\u001b[0m     \u001b[0;32mexcept\u001b[0m \u001b[0mValueError\u001b[0m\u001b[0;34m:\u001b[0m\u001b[0;34m\u001b[0m\u001b[0;34m\u001b[0m\u001b[0m\n\u001b[1;32m    250\u001b[0m         raise TypeError(\n\u001b[0;32m--> 251\u001b[0;31m             \u001b[0;34m\"Invalid input for linprog: A_eq must be a 2D array \"\u001b[0m\u001b[0;34m\u001b[0m\u001b[0;34m\u001b[0m\u001b[0m\n\u001b[0m\u001b[1;32m    252\u001b[0m             \"of numerical values\")\n\u001b[1;32m    253\u001b[0m     \u001b[0;32melse\u001b[0m\u001b[0;34m:\u001b[0m\u001b[0;34m\u001b[0m\u001b[0;34m\u001b[0m\u001b[0m\n",
      "\u001b[0;31mTypeError\u001b[0m: Invalid input for linprog: A_eq must be a 2D array of numerical values"
     ]
    }
   ],
   "source": [
    "res = linprog(c, A_eq=A, b_eq=b)"
   ]
  },
  {
   "cell_type": "code",
   "execution_count": null,
   "metadata": {},
   "outputs": [],
   "source": []
  },
  {
   "cell_type": "code",
   "execution_count": 78,
   "metadata": {},
   "outputs": [
    {
     "name": "stdout",
     "output_type": "stream",
     "text": [
      "filtered_food length: 4150\n",
      "original component_value length: 307834\n",
      "filtered_comp_val length: 301879\n",
      "filtered_comp_val2 length: 8271\n",
      "c length: 4144\n",
      "[1698.3, 1696.6, 1261.4, 1382.1, 1487.5, 2270.15, 1358.84, 1375.56, 1294.8, 2033.21]\n",
      "A[0] length: 4127\n",
      "A[1] length: 4144\n",
      "A length: 2\n",
      "b: [700.0, 2.0]\n"
     ]
    },
    {
     "ename": "TypeError",
     "evalue": "Invalid input for linprog: A_eq must be a 2D array of numerical values",
     "output_type": "error",
     "traceback": [
      "\u001b[0;31m---------------------------------------------------------------------------\u001b[0m",
      "\u001b[0;31mValueError\u001b[0m                                Traceback (most recent call last)",
      "\u001b[0;32m~/anaconda3/lib/python3.7/site-packages/scipy/optimize/_linprog_util.py\u001b[0m in \u001b[0;36m_clean_inputs\u001b[0;34m(c, A_ub, b_ub, A_eq, b_eq, bounds, x0)\u001b[0m\n\u001b[1;32m    247\u001b[0m     \u001b[0;32mtry\u001b[0m\u001b[0;34m:\u001b[0m\u001b[0;34m\u001b[0m\u001b[0;34m\u001b[0m\u001b[0m\n\u001b[0;32m--> 248\u001b[0;31m         \u001b[0mA_eq\u001b[0m \u001b[0;34m=\u001b[0m \u001b[0m_format_A_constraints\u001b[0m\u001b[0;34m(\u001b[0m\u001b[0mA_eq\u001b[0m\u001b[0;34m,\u001b[0m \u001b[0mn_x\u001b[0m\u001b[0;34m,\u001b[0m \u001b[0msparse_lhs\u001b[0m\u001b[0;34m=\u001b[0m\u001b[0msparse_lhs\u001b[0m\u001b[0;34m)\u001b[0m\u001b[0;34m\u001b[0m\u001b[0;34m\u001b[0m\u001b[0m\n\u001b[0m\u001b[1;32m    249\u001b[0m     \u001b[0;32mexcept\u001b[0m \u001b[0mValueError\u001b[0m\u001b[0;34m:\u001b[0m\u001b[0;34m\u001b[0m\u001b[0;34m\u001b[0m\u001b[0m\n",
      "\u001b[0;32m~/anaconda3/lib/python3.7/site-packages/scipy/optimize/_linprog_util.py\u001b[0m in \u001b[0;36m_format_A_constraints\u001b[0;34m(A, n_x, sparse_lhs)\u001b[0m\n\u001b[1;32m     99\u001b[0m     \u001b[0;32melse\u001b[0m\u001b[0;34m:\u001b[0m\u001b[0;34m\u001b[0m\u001b[0;34m\u001b[0m\u001b[0m\n\u001b[0;32m--> 100\u001b[0;31m         \u001b[0;32mreturn\u001b[0m \u001b[0mnp\u001b[0m\u001b[0;34m.\u001b[0m\u001b[0marray\u001b[0m\u001b[0;34m(\u001b[0m\u001b[0mA\u001b[0m\u001b[0;34m,\u001b[0m \u001b[0mdtype\u001b[0m\u001b[0;34m=\u001b[0m\u001b[0mfloat\u001b[0m\u001b[0;34m,\u001b[0m \u001b[0mcopy\u001b[0m\u001b[0;34m=\u001b[0m\u001b[0;32mTrue\u001b[0m\u001b[0;34m)\u001b[0m\u001b[0;34m\u001b[0m\u001b[0;34m\u001b[0m\u001b[0m\n\u001b[0m\u001b[1;32m    101\u001b[0m \u001b[0;34m\u001b[0m\u001b[0m\n",
      "\u001b[0;31mValueError\u001b[0m: setting an array element with a sequence.",
      "\nDuring handling of the above exception, another exception occurred:\n",
      "\u001b[0;31mTypeError\u001b[0m                                 Traceback (most recent call last)",
      "\u001b[0;32m<ipython-input-78-06dfebfa9513>\u001b[0m in \u001b[0;36m<module>\u001b[0;34m\u001b[0m\n\u001b[1;32m     25\u001b[0m \u001b[0mprint\u001b[0m\u001b[0;34m(\u001b[0m\u001b[0;34mf'b: {b}'\u001b[0m\u001b[0;34m)\u001b[0m\u001b[0;34m\u001b[0m\u001b[0;34m\u001b[0m\u001b[0m\n\u001b[1;32m     26\u001b[0m \u001b[0;34m\u001b[0m\u001b[0m\n\u001b[0;32m---> 27\u001b[0;31m \u001b[0mres\u001b[0m \u001b[0;34m=\u001b[0m \u001b[0mlinprog\u001b[0m\u001b[0;34m(\u001b[0m\u001b[0mc\u001b[0m\u001b[0;34m,\u001b[0m \u001b[0mA_eq\u001b[0m\u001b[0;34m=\u001b[0m\u001b[0mA\u001b[0m\u001b[0;34m,\u001b[0m \u001b[0mb_eq\u001b[0m\u001b[0;34m=\u001b[0m\u001b[0mb\u001b[0m\u001b[0;34m)\u001b[0m\u001b[0;34m\u001b[0m\u001b[0;34m\u001b[0m\u001b[0m\n\u001b[0m",
      "\u001b[0;32m~/anaconda3/lib/python3.7/site-packages/scipy/optimize/_linprog.py\u001b[0m in \u001b[0;36mlinprog\u001b[0;34m(c, A_ub, b_ub, A_eq, b_eq, bounds, method, callback, options, x0)\u001b[0m\n\u001b[1;32m    499\u001b[0m \u001b[0;34m\u001b[0m\u001b[0m\n\u001b[1;32m    500\u001b[0m     c, A_ub, b_ub, A_eq, b_eq, bounds, solver_options, x0 = _parse_linprog(\n\u001b[0;32m--> 501\u001b[0;31m         c, A_ub, b_ub, A_eq, b_eq, bounds, options, x0)\n\u001b[0m\u001b[1;32m    502\u001b[0m     \u001b[0mtol\u001b[0m \u001b[0;34m=\u001b[0m \u001b[0msolver_options\u001b[0m\u001b[0;34m.\u001b[0m\u001b[0mget\u001b[0m\u001b[0;34m(\u001b[0m\u001b[0;34m'tol'\u001b[0m\u001b[0;34m,\u001b[0m \u001b[0mdefault_tol\u001b[0m\u001b[0;34m)\u001b[0m\u001b[0;34m\u001b[0m\u001b[0;34m\u001b[0m\u001b[0m\n\u001b[1;32m    503\u001b[0m \u001b[0;34m\u001b[0m\u001b[0m\n",
      "\u001b[0;32m~/anaconda3/lib/python3.7/site-packages/scipy/optimize/_linprog_util.py\u001b[0m in \u001b[0;36m_parse_linprog\u001b[0;34m(c, A_ub, b_ub, A_eq, b_eq, bounds, options, x0)\u001b[0m\n\u001b[1;32m    879\u001b[0m     \u001b[0;31m# Convert lists to numpy arrays, etc...\u001b[0m\u001b[0;34m\u001b[0m\u001b[0;34m\u001b[0m\u001b[0;34m\u001b[0m\u001b[0m\n\u001b[1;32m    880\u001b[0m     c, A_ub, b_ub, A_eq, b_eq, bounds, x0 = _clean_inputs(\n\u001b[0;32m--> 881\u001b[0;31m         c, A_ub, b_ub, A_eq, b_eq, bounds, x0)\n\u001b[0m\u001b[1;32m    882\u001b[0m     \u001b[0;32mreturn\u001b[0m \u001b[0mc\u001b[0m\u001b[0;34m,\u001b[0m \u001b[0mA_ub\u001b[0m\u001b[0;34m,\u001b[0m \u001b[0mb_ub\u001b[0m\u001b[0;34m,\u001b[0m \u001b[0mA_eq\u001b[0m\u001b[0;34m,\u001b[0m \u001b[0mb_eq\u001b[0m\u001b[0;34m,\u001b[0m \u001b[0mbounds\u001b[0m\u001b[0;34m,\u001b[0m \u001b[0msolver_options\u001b[0m\u001b[0;34m,\u001b[0m \u001b[0mx0\u001b[0m\u001b[0;34m\u001b[0m\u001b[0;34m\u001b[0m\u001b[0m\n\u001b[1;32m    883\u001b[0m \u001b[0;34m\u001b[0m\u001b[0m\n",
      "\u001b[0;32m~/anaconda3/lib/python3.7/site-packages/scipy/optimize/_linprog_util.py\u001b[0m in \u001b[0;36m_clean_inputs\u001b[0;34m(c, A_ub, b_ub, A_eq, b_eq, bounds, x0)\u001b[0m\n\u001b[1;32m    249\u001b[0m     \u001b[0;32mexcept\u001b[0m \u001b[0mValueError\u001b[0m\u001b[0;34m:\u001b[0m\u001b[0;34m\u001b[0m\u001b[0;34m\u001b[0m\u001b[0m\n\u001b[1;32m    250\u001b[0m         raise TypeError(\n\u001b[0;32m--> 251\u001b[0;31m             \u001b[0;34m\"Invalid input for linprog: A_eq must be a 2D array \"\u001b[0m\u001b[0;34m\u001b[0m\u001b[0;34m\u001b[0m\u001b[0m\n\u001b[0m\u001b[1;32m    252\u001b[0m             \"of numerical values\")\n\u001b[1;32m    253\u001b[0m     \u001b[0;32melse\u001b[0m\u001b[0;34m:\u001b[0m\u001b[0;34m\u001b[0m\u001b[0;34m\u001b[0m\u001b[0m\n",
      "\u001b[0;31mTypeError\u001b[0m: Invalid input for linprog: A_eq must be a 2D array of numerical values"
     ]
    }
   ],
   "source": [
    "# testi pienemmällä otoksella\n",
    "#filter food\n",
    "filtered_food = filter_fuclass(food, omitted_food_types)\n",
    "print(f'filtered_food length: {len(filtered_food.index)}')\n",
    "\n",
    "#filter component_value by foodid\n",
    "print(f'original component_value length: {len(component_value)}')\n",
    "filtered_comp_val = filter_components_by_food(component_value, filtered_food)\n",
    "print(f'filtered_comp_val length: {len(filtered_comp_val.index)}')\n",
    "\n",
    "# filter component value by nutrient\n",
    "filtered_comp_val2 = limit_components(filtered_comp_val, ['VITA', 'VITB12'])\n",
    "print(f'filtered_comp_val2 length: {len(filtered_comp_val2.index)}')\n",
    "\n",
    "c = get_single_component_values(filtered_comp_val) # huomaa: ei filtered_comp_val2, koska siinä ei ole ENERC mukana\n",
    "print(f'c length: {len(c)}')\n",
    "print(c[:10])\n",
    "\n",
    "A = create_matrix_a_eq(filtered_comp_val2, ['VITA', 'VITB12'])\n",
    "print(f'A[0] length: {len(A[0])}')\n",
    "print(f'A[1] length: {len(A[1])}')\n",
    "print(f'A length: {len(A)}')\n",
    "\n",
    "b = create_rda_list(saantisuositus, nutrient_list=['VITA', 'VITB12'], target_group=\"nkeski\")\n",
    "print(f'b: {b}')\n",
    "\n",
    "res = linprog(c, A_eq=A, b_eq=b)"
   ]
  }
 ],
 "metadata": {
  "kernelspec": {
   "display_name": "Python 3",
   "language": "python",
   "name": "python3"
  },
  "language_info": {
   "codemirror_mode": {
    "name": "ipython",
    "version": 3
   },
   "file_extension": ".py",
   "mimetype": "text/x-python",
   "name": "python",
   "nbconvert_exporter": "python",
   "pygments_lexer": "ipython3",
   "version": "3.7.4"
  }
 },
 "nbformat": 4,
 "nbformat_minor": 2
}
